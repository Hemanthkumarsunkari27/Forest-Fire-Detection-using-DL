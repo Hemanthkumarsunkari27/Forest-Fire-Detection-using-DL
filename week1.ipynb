

import kagglehub

# Download latest version
path = kagglehub.dataset_download("elmadafri/the-wildfire-dataset")

print("Path to dataset files:", path)
